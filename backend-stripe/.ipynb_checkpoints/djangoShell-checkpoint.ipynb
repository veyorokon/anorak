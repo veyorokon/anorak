{
 "cells": [
  {
   "cell_type": "code",
   "execution_count": 1,
   "metadata": {},
   "outputs": [],
   "source": [
    "\"\"\"\n",
    "Custom invoice manager to for stripe invoices\n",
    "\"\"\"\n",
    "\n",
    "##########################################################################\n",
    "## Imports\n",
    "##########################################################################\n",
    "\n",
    "import sys\n",
    "from backend.utility import *\n",
    "from subscription.models import SubscriptionMember\n",
    "\n",
    "##########################################################################\n",
    "## Invoice Manager\n",
    "##########################################################################\n",
    "\n",
    "class InvoiceManager(object):\n",
    "    \n",
    "    def _get_invoice_items(self, invoice):\n",
    "        return invoice.lines.data\n",
    "    \n",
    "    def _get_plan_id_from_member(self, member):\n",
    "        return self._get_invoice_item_from_member(member).stripe_plan_id\n",
    "    \n",
    "    def _datetime_to_epoch(self, dateTime):\n",
    "        return int(dateTime.timestamp())\n",
    "    \n",
    "    def _time_difference(self, epoch1, epoch2):\n",
    "        return abs(epoch2 - epoch1)\n",
    "    \n",
    "    def _get_invoice_item_from_member(self, member):\n",
    "        return member.subscription_account.subscription_plan\n",
    "    \n",
    "    def _item_plan_matches(self, item, memberPlan):\n",
    "        if item.plan and item.plan.id == memberPlan:\n",
    "            return True\n",
    "        return False    \n",
    "        \n",
    "    def _get_closest_item(self, member, invoice, memberPlan):\n",
    "        items = self._get_invoice_items(invoice)\n",
    "        leastDifference = self._initial_difference(items, member)\n",
    "        closestItem = items[0]\n",
    "        for item in items:\n",
    "            difference = self._check_item_distance(item, member, memberPlan)\n",
    "            if difference < leastDifference:\n",
    "                leastDifference = difference\n",
    "                closestItem = item\n",
    "        return closestItem\n",
    "    \n",
    "    def _check_item_distance(self, item, member, memberPlan):\n",
    "        if self._item_plan_matches(item, memberPlan):\n",
    "            return self._get_item_difference(item, member)\n",
    "        return sys.maxsize\n",
    "            \n",
    "    def _get_member_create_epoch(self, member):\n",
    "        createdDateTime = member.date_created\n",
    "        createdEpoch = self._datetime_to_epoch(createdDateTime)\n",
    "        return createdEpoch\n",
    "            \n",
    "    def _get_item_difference(self, item, member):\n",
    "        memberCreated = self._get_member_create_epoch(member)\n",
    "        itemCreated = item.period.start\n",
    "        return self._time_difference(itemCreated, memberCreated)\n",
    "    \n",
    "    def _initial_difference(self, items, member):\n",
    "        initialItem = items[0]\n",
    "        return self._get_item_difference(initialItem, member)\n",
    "    \n",
    "    def _event_data(self, event):\n",
    "        return event.data['object']['items']['data']\n",
    "    \n",
    "    def _event_previous_data(self, event):\n",
    "        return event.data['previous_attributes']['items']['data']\n",
    "    \n",
    "    def _event_new_data(self, event):\n",
    "        newData = self._event_data(event)\n",
    "        previousData = self._event_previous_data(event)\n",
    "        return [x for x in newData + previousData if x not in newData or x not in previousData][0]\n",
    "    \n",
    "    def get_invoice_subscription_item(self, newSubscriptionItemId, invoice):\n",
    "        invoiceItem = None\n",
    "        for item in self._get_invoice_items(invoice):\n",
    "            if('subscription_item' in item):\n",
    "                subscriptionItemId = item['subscription_item']\n",
    "                if(subscriptionItemId == newSubscriptionItemId):\n",
    "                    invoiceItem = item\n",
    "        return invoiceItem\n",
    "    \n",
    "    def get_new_subscription_item_id(self, event):\n",
    "        return self._event_new_data(event)['id']\n",
    "    \n",
    "    def get_closest_item(self, member, invoice=None):\n",
    "        if invoice == None:\n",
    "            invoice = member.user.upcoming_invoice()\n",
    "        memberPlan = self._get_plan_id_from_member(member)\n",
    "        return self._get_closest_item(member, invoice, memberPlan)"
   ]
  },
  {
   "cell_type": "code",
   "execution_count": 3,
   "metadata": {},
   "outputs": [
    {
     "data": {
      "text/plain": [
       "'customer.subscription.updated'"
      ]
     },
     "execution_count": 3,
     "metadata": {},
     "output_type": "execute_result"
    }
   ],
   "source": [
    "invoiceManager = InvoiceManager()\n",
    "event = Event.objects.get(id=\"evt_1EIAJWGjkoMLHlzNyuKFIese\")\n",
    "event.type"
   ]
  },
  {
   "cell_type": "code",
   "execution_count": 16,
   "metadata": {},
   "outputs": [],
   "source": [
    "newSubscriptionItemId = invoiceManager.get_new_subscription_item_id(event)"
   ]
  },
  {
   "cell_type": "code",
   "execution_count": 20,
   "metadata": {},
   "outputs": [],
   "source": [
    "emailNotification = EmailReceiptNotification.objects.get(\n",
    "    subscription_member__stripe_subscription_item_id=newSubscriptionItemId\n",
    ")\n",
    "emailNotification\n",
    "user = emailNotification.subscription_member.user\n",
    "# invoice = user.upcoming_invoice()"
   ]
  },
  {
   "cell_type": "code",
   "execution_count": 27,
   "metadata": {
    "scrolled": true
   },
   "outputs": [],
   "source": [
    "invoiceItem = invoiceManager.get_invoice_subscription_item(newSubscriptionItemId, invoice)"
   ]
  },
  {
   "cell_type": "code",
   "execution_count": 23,
   "metadata": {},
   "outputs": [],
   "source": [
    "from backend.email import EmailManager"
   ]
  },
  {
   "cell_type": "code",
   "execution_count": 25,
   "metadata": {},
   "outputs": [],
   "source": [
    "emailManager = EmailManager(user, invoice)"
   ]
  },
  {
   "cell_type": "code",
   "execution_count": 28,
   "metadata": {
    "scrolled": true
   },
   "outputs": [
    {
     "data": {
      "text/plain": [
       "{'items': [{'item_id': 'ii_1EIAJWGjkoMLHlzNNspcFq15',\n",
       "   'plan_description': 'Netflix - Individual Plan - Month of April',\n",
       "   'prorated_description': 'Remaining time on Netflix - Individual Plan after 26 Mar 2019',\n",
       "   'plan_amount': 6.99,\n",
       "   'prorated_amount': 1.28,\n",
       "   'was_refunded': False}],\n",
       " 'invoice_number': '719884C-0002',\n",
       " 'billing_date': 'April 01, 2019',\n",
       " 'renewal_date': 'May 01, 2019',\n",
       " 'end_date': 'April 30, 2019',\n",
       " 'start_date': 'March 26, 2019',\n",
       " 'address': {'line1': '1600 Villa Street',\n",
       "  'line2': '',\n",
       "  'zip': '94041',\n",
       "  'state': 'CA',\n",
       "  'city': 'Mountain View'},\n",
       " 'last4': '4242',\n",
       " 'subtotal': '8.27',\n",
       " 'tax': '0.52',\n",
       " 'total': '8.79',\n",
       " 'tax_percent': '6.25',\n",
       " 'type': 'single',\n",
       " 'has_anorak_fee': False}"
      ]
     },
     "execution_count": 28,
     "metadata": {},
     "output_type": "execute_result"
    }
   ],
   "source": [
    "emailManager.email_receipt(invoiceItem)"
   ]
  },
  {
   "cell_type": "code",
   "execution_count": null,
   "metadata": {},
   "outputs": [],
   "source": []
  }
 ],
 "metadata": {
  "kernelspec": {
   "display_name": "Django Shell-Plus",
   "language": "python",
   "name": "django_extensions"
  },
  "language_info": {
   "codemirror_mode": {
    "name": "ipython",
    "version": 3
   },
   "file_extension": ".py",
   "mimetype": "text/x-python",
   "name": "python",
   "nbconvert_exporter": "python",
   "pygments_lexer": "ipython3",
   "version": "3.6.8"
  }
 },
 "nbformat": 4,
 "nbformat_minor": 2
}
