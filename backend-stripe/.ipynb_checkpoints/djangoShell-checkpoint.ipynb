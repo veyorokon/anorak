{
 "cells": [
  {
   "cell_type": "code",
   "execution_count": 20,
   "metadata": {},
   "outputs": [],
   "source": [
    "from djstripe.models import *\n",
    "from django.conf import settings\n",
    "from backend.utility import *\n",
    "import stripe\n",
    "\n",
    "stripe.api_key = settings.STRIPE_ACCOUNT_SID\n",
    "anorakPlan = settings.STRIPE_ANORAK_PLAN"
   ]
  },
  {
   "cell_type": "code",
   "execution_count": 17,
   "metadata": {},
   "outputs": [],
   "source": [
    "user = User.objects.get(pk=1)\n",
    "plan = Plan.objects.get(id=anorakPlan)\n",
    "customer = Customer.objects.get_or_create(subscriber=user)[0]\n",
    "anchor = get_first_day_of_next_month()"
   ]
  },
  {
   "cell_type": "code",
   "execution_count": 21,
   "metadata": {},
   "outputs": [
    {
     "data": {
      "text/plain": [
       "'cus_EjnL7KPVYBegEc'"
      ]
     },
     "execution_count": 21,
     "metadata": {},
     "output_type": "execute_result"
    }
   ],
   "source": [
    "customer.id"
   ]
  },
  {
   "cell_type": "code",
   "execution_count": 22,
   "metadata": {},
   "outputs": [],
   "source": [
    "subscription = stripe.Subscription.create(\n",
    "            customer=customer.id,\n",
    "            items=[\n",
    "                {\n",
    "                    \"plan\": anorakPlan,\n",
    "                },\n",
    "            ],\n",
    "            billing_cycle_anchor=get_first_day_next_month_epoch()\n",
    "        )"
   ]
  },
  {
   "cell_type": "code",
   "execution_count": 26,
   "metadata": {},
   "outputs": [
    {
     "data": {
      "text/plain": [
       "<Subscription: veyorokon@gmail.com on Monthly>"
      ]
     },
     "execution_count": 26,
     "metadata": {},
     "output_type": "execute_result"
    }
   ],
   "source": [
    "Subscription.objects.get(customer=customer)"
   ]
  },
  {
   "cell_type": "code",
   "execution_count": 33,
   "metadata": {},
   "outputs": [
    {
     "data": {
      "text/plain": [
       "<Customer: veyorokon@gmail.com>"
      ]
     },
     "execution_count": 33,
     "metadata": {},
     "output_type": "execute_result"
    }
   ],
   "source": [
    "user.djstripe_customers.first()"
   ]
  },
  {
   "cell_type": "code",
   "execution_count": null,
   "metadata": {},
   "outputs": [],
   "source": []
  }
 ],
 "metadata": {
  "kernelspec": {
   "display_name": "Django Shell-Plus",
   "language": "python",
   "name": "django_extensions"
  },
  "language_info": {
   "codemirror_mode": {
    "name": "ipython",
    "version": 3
   },
   "file_extension": ".py",
   "mimetype": "text/x-python",
   "name": "python",
   "nbconvert_exporter": "python",
   "pygments_lexer": "ipython3",
   "version": "3.6.8"
  }
 },
 "nbformat": 4,
 "nbformat_minor": 2
}
