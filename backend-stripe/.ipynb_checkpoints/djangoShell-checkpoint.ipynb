{
 "cells": [
  {
   "cell_type": "code",
   "execution_count": 1,
   "metadata": {},
   "outputs": [],
   "source": [
    "from mail_templated import EmailMessage\n",
    "from backend.utility import *"
   ]
  },
  {
   "cell_type": "code",
   "execution_count": 103,
   "metadata": {},
   "outputs": [],
   "source": [
    "class EmailManager(object):\n",
    "    \n",
    "    def __init__(self):\n",
    "        pass\n",
    "    \n",
    "    def _invoice_data(self, invoice):\n",
    "        return invoice.lines.data\n",
    "    \n",
    "    def _invoice_items_from_product_name(self, productName, invoice):\n",
    "        invoiceData = self._invoice_data(invoice)\n",
    "        items = self.find_items([productName], invoiceData)\n",
    "        return items\n",
    "    \n",
    "    def _is_prorated(self, item):\n",
    "        itemPrice = item.amount\n",
    "        planPrice = self._get_item_plan_amount(item)\n",
    "        return itemPrice != planPrice\n",
    "    \n",
    "    def _get_item_name(self, item):\n",
    "        if item.plan:\n",
    "            member = self._member_from_item(item)\n",
    "            return member.subscription_account.subscription_plan.product_name\n",
    "        return item.description\n",
    "    \n",
    "    def _format_val(self, value):\n",
    "        if value:\n",
    "            return value/100\n",
    "        return value\n",
    "    \n",
    "    def _get_item_prorated_amount(self, item):\n",
    "        if self._is_prorated(item) and item.plan:\n",
    "            return self._format_val(item.amount)\n",
    "        return None\n",
    "    \n",
    "    def _get_item_plan_amount(self, item):\n",
    "        if item.plan:\n",
    "            return self._format_val(item.plan.amount)\n",
    "        return self._format_val(item.amount)\n",
    "    \n",
    "    def _get_invoice_billing_date_time(self, invoice):\n",
    "        return convert_epoch(invoice.period_end)\n",
    "    \n",
    "    def _get_invoice_billing_date(self, invoice):\n",
    "        billingDateTime = self._get_invoice_billing_date_time(invoice)\n",
    "        return date_time_to_date(billingDateTime)\n",
    "    \n",
    "    def _get_invoice_end_date_time(self, invoice):\n",
    "        date = self._get_invoice_billing_date_time(invoice)\n",
    "        lastDayOfMonth = days_in_a_month(date)\n",
    "        return datetime.strptime('{0} {1} {2}'.format(\n",
    "            date.month, \n",
    "            lastDayOfMonth, \n",
    "            date.year), '%m %d %Y'\n",
    "        )\n",
    "    \n",
    "    def _get_invoice_end_date(self, invoice):\n",
    "        endDateTime = self._get_invoice_end_date_time(invoice)\n",
    "        return date_time_to_date(endDateTime)\n",
    "    \n",
    "    def _get_invoice_renewal_date_time(self, invoice):\n",
    "        endDateTime = self._get_invoice_end_date_time(invoice)\n",
    "        return get_first_day_of_next_month(endDateTime)\n",
    "    \n",
    "    def _get_invoice_renewal_date(self, invoice):\n",
    "        renewalDateTime = self._get_invoice_renewal_date_time(invoice)\n",
    "        return date_time_to_date(renewalDateTime)\n",
    "    \n",
    "    def _item_plan_description(self, item, invoice):\n",
    "        if not item.plan:\n",
    "            return None\n",
    "        monthOf = self._get_invoice_billing_date_time(invoice)\n",
    "        member = self._member_from_item(item)\n",
    "        plan = member.subscription_account.subscription_plan.product_name\n",
    "        return  plan+\" - Month of \"+monthOf.strftime('%B')\n",
    "    \n",
    "    def _item_prorated_description(self):\n",
    "        if not item.plan:\n",
    "            return item.description\n",
    "        return None\n",
    "    \n",
    "    def _was_item_canceled(self, item):\n",
    "        if self._is_prorated(item) and item.plan and item.amount <= 0:\n",
    "            return True\n",
    "        return False\n",
    "    \n",
    "    def _item_dictionary(self, item, invoice):   \n",
    "        return({\n",
    "            'item_id': item.id,\n",
    "            'plan_description': self._item_plan_description(item, invoice),\n",
    "            'prorated_description': item.description,\n",
    "            'plan_amount': self._get_item_plan_amount(item),\n",
    "            'prorated_amount': self._get_item_prorated_amount(item),\n",
    "        })\n",
    "    \n",
    "    def _member_from_item(self, item):\n",
    "        plan = item.plan.id\n",
    "        return SubscriptionMember.objects.get(\n",
    "            subscription_account__subscription_plan__stripe_plan_id=plan\n",
    "        )\n",
    "    \n",
    "    def _dictionary_with_invoice_dates(self, invoice):\n",
    "        dictionary = {}\n",
    "        dictionary['items']={}\n",
    "        dictionary['biling_date'] = self._get_invoice_billing_date(invoice)\n",
    "        dictionary['renewal_date'] = self._get_invoice_renewal_date(invoice)\n",
    "        dictionary['end_date'] = self._get_invoice_end_date(invoice)\n",
    "        return dictionary\n",
    "    \n",
    "    def invoice_to_dict(self, invoice):\n",
    "        dictionary = self._dictionary_with_invoice_dates(invoice)\n",
    "        items = []\n",
    "        for item in self._invoice_data(invoice):\n",
    "            items.append(self._item_dictionary(item, invoice))\n",
    "        dictionary['items'] = items\n",
    "        return dictionary\n",
    "        \n",
    "    def find_items(self, search, invoiceData):\n",
    "        search = [term.lower() for term in search]\n",
    "        found = []\n",
    "        for item in invoiceData:\n",
    "            description = item.description.lower()\n",
    "            if all(term in description for term in search):\n",
    "                found.append(item)\n",
    "        return found\n",
    "    \n",
    "    def email_item_receipt(self, item, invoice):\n",
    "        invoiceDictionary = self._dictionary_with_invoice_dates(invoice)\n",
    "        itemDictionary = {'items' : \n",
    "                          [self._item_dictionary(item, invoice)]\n",
    "                         }\n",
    "        receiptDictionary = {**invoiceDictionary, **itemDictionary}\n",
    "        member = self._member_from_item(item)\n",
    "        print(receiptDictionary)\n",
    "#         message = EmailMessage('invoice.tpl', \n",
    "#             {'user': member.user, 'data':receiptDictionary}, \n",
    "#             'Anorak@ianorak.com', \n",
    "#             to =[member.user.email]\n",
    "#         )\n",
    "#         message.send()"
   ]
  },
  {
   "cell_type": "code",
   "execution_count": 104,
   "metadata": {},
   "outputs": [],
   "source": [
    "emailManager = EmailManager()\n",
    "user = User.objects.get(email='veyorokon@gmail.com')\n",
    "# invoice = user.upcoming_invoice()"
   ]
  },
  {
   "cell_type": "code",
   "execution_count": 105,
   "metadata": {
    "scrolled": true
   },
   "outputs": [
    {
     "data": {
      "text/plain": [
       "'April 01, 2019'"
      ]
     },
     "execution_count": 105,
     "metadata": {},
     "output_type": "execute_result"
    }
   ],
   "source": [
    "emailManager._get_invoice_billing_date(invoice)"
   ]
  },
  {
   "cell_type": "code",
   "execution_count": 106,
   "metadata": {
    "scrolled": true
   },
   "outputs": [
    {
     "name": "stdout",
     "output_type": "stream",
     "text": [
      "{'items': [{'item_id': 'ii_1EH3ZfGjkoMLHlzNUI4F80vu', 'plan_description': 'Netflix - Individual Plan - Month of April', 'prorated_description': 'Remaining time on Netflix - Individual Plan after 23 Mar 2019', 'plan_amount': 6.99, 'prorated_amount': 1.97}], 'biling_date': 'April 01, 2019', 'renewal_date': 'May 01, 2019', 'end_date': 'April 30, 2019'}\n"
     ]
    }
   ],
   "source": [
    "data = emailManager._invoice_data(invoice)\n",
    "itemDictionary = emailManager.email_item_receipt(data[0], invoice)"
   ]
  },
  {
   "cell_type": "code",
   "execution_count": 107,
   "metadata": {},
   "outputs": [],
   "source": [
    "#member.subscription_account"
   ]
  },
  {
   "cell_type": "code",
   "execution_count": 108,
   "metadata": {},
   "outputs": [],
   "source": [
    "items = emailManager._invoice_items_from_product_name(member.subscription_account.subscription_plan.product_name, invoice)"
   ]
  },
  {
   "cell_type": "code",
   "execution_count": 109,
   "metadata": {
    "scrolled": true
   },
   "outputs": [
    {
     "data": {
      "text/plain": [
       "{'items': [{'item_id': 'ii_1EH3ZfGjkoMLHlzNUI4F80vu',\n",
       "   'plan_description': 'Netflix - Individual Plan - Month of April',\n",
       "   'prorated_description': 'Remaining time on Netflix - Individual Plan after 23 Mar 2019',\n",
       "   'plan_amount': 6.99,\n",
       "   'prorated_amount': 1.97},\n",
       "  {'item_id': 'ii_1EH3SeGjkoMLHlzNZsW1J7gm',\n",
       "   'plan_description': 'Netflix - Individual Plan - Month of April',\n",
       "   'prorated_description': 'Unused time on Netflix - Individual Plan after 23 Mar 2019',\n",
       "   'plan_amount': 6.99,\n",
       "   'prorated_amount': -1.97},\n",
       "  {'item_id': 'ii_1EH3KMGjkoMLHlzN8BfytqZS',\n",
       "   'plan_description': None,\n",
       "   'prorated_description': 'Anorak Management Fee',\n",
       "   'plan_amount': 0.78,\n",
       "   'prorated_amount': None},\n",
       "  {'item_id': 'ii_1EH3KJGjkoMLHlzNo6k38maj',\n",
       "   'plan_description': 'Netflix - Individual Plan - Month of April',\n",
       "   'prorated_description': 'Remaining time on Netflix - Individual Plan after 23 Mar 2019',\n",
       "   'plan_amount': 6.99,\n",
       "   'prorated_amount': 1.97},\n",
       "  {'item_id': 'ii_1EH3JsGjkoMLHlzNcjZ14bzq',\n",
       "   'plan_description': 'Netflix - Individual Plan - Month of April',\n",
       "   'prorated_description': 'Unused time on Netflix - Individual Plan after 23 Mar 2019',\n",
       "   'plan_amount': 6.99,\n",
       "   'prorated_amount': -1.97},\n",
       "  {'item_id': 'ii_1EH3HrGjkoMLHlzN6SFKckdU',\n",
       "   'plan_description': 'Netflix - Individual Plan - Month of April',\n",
       "   'prorated_description': 'Remaining time on Netflix - Individual Plan after 23 Mar 2019',\n",
       "   'plan_amount': 6.99,\n",
       "   'prorated_amount': 1.97},\n",
       "  {'item_id': 'ii_1EH3GLGjkoMLHlzNze1FK55D',\n",
       "   'plan_description': 'Netflix - Individual Plan - Month of April',\n",
       "   'prorated_description': 'Unused time on Netflix - Individual Plan after 23 Mar 2019',\n",
       "   'plan_amount': 6.99,\n",
       "   'prorated_amount': -1.97},\n",
       "  {'item_id': 'ii_1EH3BvGjkoMLHlzNkPGcv5hB',\n",
       "   'plan_description': 'Netflix - Individual Plan - Month of April',\n",
       "   'prorated_description': 'Remaining time on Netflix - Individual Plan after 23 Mar 2019',\n",
       "   'plan_amount': 6.99,\n",
       "   'prorated_amount': 1.97},\n",
       "  {'item_id': 'ii_1EH3BXGjkoMLHlzNCEnau6NZ',\n",
       "   'plan_description': 'Netflix - Individual Plan - Month of April',\n",
       "   'prorated_description': 'Unused time on Netflix - Individual Plan after 23 Mar 2019',\n",
       "   'plan_amount': 6.99,\n",
       "   'prorated_amount': -1.97},\n",
       "  {'item_id': 'ii_1EH35tGjkoMLHlzNKEwj77bL',\n",
       "   'plan_description': 'Netflix - Individual Plan - Month of April',\n",
       "   'prorated_description': 'Remaining time on Netflix - Individual Plan after 23 Mar 2019',\n",
       "   'plan_amount': 6.99,\n",
       "   'prorated_amount': 1.97}],\n",
       " 'biling_date': 'April 01, 2019',\n",
       " 'renewal_date': 'May 01, 2019',\n",
       " 'end_date': 'April 30, 2019'}"
      ]
     },
     "execution_count": 109,
     "metadata": {},
     "output_type": "execute_result"
    }
   ],
   "source": [
    "#itemDictionary = emailManager._item_dictionary(items[0])\n",
    "invoiceDictionary = emailManager.invoice_to_dict(invoice)\n",
    "invoiceDictionary"
   ]
  },
  {
   "cell_type": "code",
   "execution_count": 56,
   "metadata": {},
   "outputs": [],
   "source": [
    "#invoice.lines.data"
   ]
  },
  {
   "cell_type": "code",
   "execution_count": null,
   "metadata": {},
   "outputs": [],
   "source": []
  }
 ],
 "metadata": {
  "kernelspec": {
   "display_name": "Django Shell-Plus",
   "language": "python",
   "name": "django_extensions"
  },
  "language_info": {
   "codemirror_mode": {
    "name": "ipython",
    "version": 3
   },
   "file_extension": ".py",
   "mimetype": "text/x-python",
   "name": "python",
   "nbconvert_exporter": "python",
   "pygments_lexer": "ipython3",
   "version": "3.6.8"
  }
 },
 "nbformat": 4,
 "nbformat_minor": 2
}
