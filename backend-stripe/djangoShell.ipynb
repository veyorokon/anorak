{
 "cells": [
  {
   "cell_type": "code",
   "execution_count": 1,
   "metadata": {},
   "outputs": [],
   "source": [
    "from subscription.enum import SubscriptionAccountType"
   ]
  },
  {
   "cell_type": "code",
   "execution_count": 2,
   "metadata": {},
   "outputs": [],
   "source": [
    "instance = SubscriptionMember.objects.first()"
   ]
  },
  {
   "cell_type": "code",
   "execution_count": 4,
   "metadata": {
    "scrolled": true
   },
   "outputs": [],
   "source": [
    "accountType = SubscriptionAccountType.label(instance.subscription_account.type)"
   ]
  },
  {
   "cell_type": "code",
   "execution_count": 5,
   "metadata": {},
   "outputs": [],
   "source": [
    "isCreateAccount = SubscriptionAccountType.label(accountType) == 'CREATE'"
   ]
  },
  {
   "cell_type": "code",
   "execution_count": 6,
   "metadata": {},
   "outputs": [
    {
     "data": {
      "text/plain": [
       "True"
      ]
     },
     "execution_count": 6,
     "metadata": {},
     "output_type": "execute_result"
    }
   ],
   "source": [
    "isCreateAccount"
   ]
  },
  {
   "cell_type": "code",
   "execution_count": 20,
   "metadata": {},
   "outputs": [],
   "source": []
  },
  {
   "cell_type": "code",
   "execution_count": 21,
   "metadata": {},
   "outputs": [],
   "source": [
    "em = EmailManager(User.objects.get(email='test5@test5.com'))"
   ]
  },
  {
   "cell_type": "code",
   "execution_count": 22,
   "metadata": {
    "scrolled": true
   },
   "outputs": [
    {
     "name": "stdout",
     "output_type": "stream",
     "text": [
      "0.0\n"
     ]
    },
    {
     "data": {
      "text/plain": [
       "{'items': [{'item_id': 'ii_1EHkUWGjkoMLHlzNQV9Z2yvc',\n",
       "   'plan_description': 'Netflix - Individual Plan - Month of April',\n",
       "   'prorated_description': 'Remaining time on Netflix - Individual Plan after 25 Mar 2019',\n",
       "   'plan_amount': 6.99,\n",
       "   'prorated_amount': 1.54,\n",
       "   'was_refunded': False},\n",
       "  {'item_id': 'ii_1EHkUOGjkoMLHlzNiz5TGcZT',\n",
       "   'plan_description': 'Netflix - Individual Plan - Month of April',\n",
       "   'prorated_description': 'Unused time on Netflix - Individual Plan after 25 Mar 2019',\n",
       "   'plan_amount': -6.99,\n",
       "   'prorated_amount': -1.54,\n",
       "   'was_refunded': True},\n",
       "  {'item_id': 'ii_1EHkSwGjkoMLHlzN2DrGJ1kf',\n",
       "   'plan_description': 'Netflix - Individual Plan - Month of April',\n",
       "   'prorated_description': 'Remaining time on Netflix - Individual Plan after 25 Mar 2019',\n",
       "   'plan_amount': 6.99,\n",
       "   'prorated_amount': 1.54,\n",
       "   'was_refunded': False},\n",
       "  {'item_id': 'ii_1EHkSrGjkoMLHlzNHD5138q3',\n",
       "   'plan_description': 'Netflix - Individual Plan - Month of April',\n",
       "   'prorated_description': 'Unused time on Netflix - Individual Plan after 25 Mar 2019',\n",
       "   'plan_amount': -6.99,\n",
       "   'prorated_amount': -1.54,\n",
       "   'was_refunded': True},\n",
       "  {'item_id': 'ii_1EHkQUGjkoMLHlzNzmSe9M1g',\n",
       "   'plan_description': 'Netflix - Individual Plan - Month of April',\n",
       "   'prorated_description': 'Remaining time on Netflix - Individual Plan after 25 Mar 2019',\n",
       "   'plan_amount': 6.99,\n",
       "   'prorated_amount': 1.54,\n",
       "   'was_refunded': False},\n",
       "  {'item_id': 'ii_1EHkQLGjkoMLHlzNJRyjl7Qy',\n",
       "   'plan_description': 'Netflix - Individual Plan - Month of April',\n",
       "   'prorated_description': 'Unused time on Netflix - Individual Plan after 25 Mar 2019',\n",
       "   'plan_amount': -6.99,\n",
       "   'prorated_amount': -1.54,\n",
       "   'was_refunded': True},\n",
       "  {'item_id': 'ii_1EHkOVGjkoMLHlzNWwYoPUVU',\n",
       "   'plan_description': 'Netflix - Individual Plan - Month of April',\n",
       "   'prorated_description': 'Remaining time on Netflix - Individual Plan after 25 Mar 2019',\n",
       "   'plan_amount': 6.99,\n",
       "   'prorated_amount': 1.54,\n",
       "   'was_refunded': False},\n",
       "  {'item_id': 'ii_1EHcchGjkoMLHlzNRWtMqN29',\n",
       "   'plan_description': 'Netflix - Individual Plan - Month of April',\n",
       "   'prorated_description': 'Unused time on Netflix - Individual Plan after 24 Mar 2019',\n",
       "   'plan_amount': -6.99,\n",
       "   'prorated_amount': -1.61,\n",
       "   'was_refunded': True},\n",
       "  {'item_id': 'ii_1EHcbxGjkoMLHlzNiAGsIWi3',\n",
       "   'plan_description': 'Netflix - Individual Plan - Month of April',\n",
       "   'prorated_description': 'Remaining time on Netflix - Individual Plan after 24 Mar 2019',\n",
       "   'plan_amount': 6.99,\n",
       "   'prorated_amount': 1.61,\n",
       "   'was_refunded': False},\n",
       "  {'item_id': 'ii_1EHkSsGjkoMLHlzNbjQXERmr',\n",
       "   'plan_description': 'Anorak Management Fee',\n",
       "   'prorated_description': None,\n",
       "   'plan_amount': 0.78,\n",
       "   'prorated_amount': None,\n",
       "   'was_refunded': False}],\n",
       " 'invoice_number': '28B11DF-0002',\n",
       " 'billing_date': 'April 01, 2019',\n",
       " 'renewal_date': 'May 01, 2019',\n",
       " 'end_date': 'April 30, 2019',\n",
       " 'start_date': 'March 24, 2019',\n",
       " 'address': {'line1': 'hkh',\n",
       "  'line2': 'hhk',\n",
       "  'zip': '19706',\n",
       "  'state': 'DE',\n",
       "  'city': 'jklj'},\n",
       " 'last4': '4242',\n",
       " 'subtotal': '9.31',\n",
       " 'tax': '0.00',\n",
       " 'total': '9.31',\n",
       " 'tax_percent': '0.00',\n",
       " 'type': 'multiple',\n",
       " 'has_anorak_fee': True}"
      ]
     },
     "execution_count": 22,
     "metadata": {},
     "output_type": "execute_result"
    }
   ],
   "source": [
    "em.invoice_to_dict()"
   ]
  },
  {
   "cell_type": "code",
   "execution_count": null,
   "metadata": {},
   "outputs": [],
   "source": []
  }
 ],
 "metadata": {
  "kernelspec": {
   "display_name": "Django Shell-Plus",
   "language": "python",
   "name": "django_extensions"
  },
  "language_info": {
   "codemirror_mode": {
    "name": "ipython",
    "version": 3
   },
   "file_extension": ".py",
   "mimetype": "text/x-python",
   "name": "python",
   "nbconvert_exporter": "python",
   "pygments_lexer": "ipython3",
   "version": "3.6.8"
  }
 },
 "nbformat": 4,
 "nbformat_minor": 2
}
