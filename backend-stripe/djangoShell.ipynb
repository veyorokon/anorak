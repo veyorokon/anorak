{
 "cells": [
  {
   "cell_type": "code",
   "execution_count": 1,
   "metadata": {},
   "outputs": [],
   "source": [
    "from djstripe.models import *\n",
    "from django.conf import settings\n",
    "from backend.utility import *\n",
    "from backend.stripe import stripe\n",
    "from subscription.enum import *"
   ]
  },
  {
   "cell_type": "code",
   "execution_count": 2,
   "metadata": {},
   "outputs": [],
   "source": [
    "u = User.objects.get(email='veyorokon@gmail.com')"
   ]
  },
  {
   "cell_type": "code",
   "execution_count": 3,
   "metadata": {},
   "outputs": [],
   "source": [
    "account = SubscriptionAccount.objects.all()[1]"
   ]
  },
  {
   "cell_type": "code",
   "execution_count": 5,
   "metadata": {},
   "outputs": [
    {
     "ename": "DoesNotExist",
     "evalue": "SubscriptionMember matching query does not exist.",
     "output_type": "error",
     "traceback": [
      "\u001b[0;31m---------------------------------------------------------------------------\u001b[0m",
      "\u001b[0;31mDoesNotExist\u001b[0m                              Traceback (most recent call last)",
      "\u001b[0;32m<ipython-input-5-e5eb46253752>\u001b[0m in \u001b[0;36m<module>\u001b[0;34m\u001b[0m\n\u001b[0;32m----> 1\u001b[0;31m \u001b[0maccount\u001b[0m\u001b[0;34m.\u001b[0m\u001b[0mresponsible_member\u001b[0m\u001b[0;34m\u001b[0m\u001b[0;34m\u001b[0m\u001b[0m\n\u001b[0m",
      "\u001b[0;32m/app/backend-stripe/apps/subscription/models.py\u001b[0m in \u001b[0;36mresponsible_member\u001b[0;34m(self)\u001b[0m\n\u001b[1;32m    160\u001b[0m         return SubscriptionMember.objects.get(\n\u001b[1;32m    161\u001b[0m             \u001b[0muser\u001b[0m \u001b[0;34m=\u001b[0m \u001b[0mself\u001b[0m\u001b[0;34m.\u001b[0m\u001b[0mresponsible_user\u001b[0m\u001b[0;34m,\u001b[0m\u001b[0;34m\u001b[0m\u001b[0;34m\u001b[0m\u001b[0m\n\u001b[0;32m--> 162\u001b[0;31m             \u001b[0msubscription_account\u001b[0m \u001b[0;34m=\u001b[0m \u001b[0mself\u001b[0m\u001b[0;34m\u001b[0m\u001b[0;34m\u001b[0m\u001b[0m\n\u001b[0m\u001b[1;32m    163\u001b[0m         )\n\u001b[1;32m    164\u001b[0m \u001b[0;34m\u001b[0m\u001b[0m\n",
      "\u001b[0;32m/usr/local/lib/python3.6/site-packages/django/db/models/manager.py\u001b[0m in \u001b[0;36mmanager_method\u001b[0;34m(self, *args, **kwargs)\u001b[0m\n\u001b[1;32m     80\u001b[0m         \u001b[0;32mdef\u001b[0m \u001b[0mcreate_method\u001b[0m\u001b[0;34m(\u001b[0m\u001b[0mname\u001b[0m\u001b[0;34m,\u001b[0m \u001b[0mmethod\u001b[0m\u001b[0;34m)\u001b[0m\u001b[0;34m:\u001b[0m\u001b[0;34m\u001b[0m\u001b[0;34m\u001b[0m\u001b[0m\n\u001b[1;32m     81\u001b[0m             \u001b[0;32mdef\u001b[0m \u001b[0mmanager_method\u001b[0m\u001b[0;34m(\u001b[0m\u001b[0mself\u001b[0m\u001b[0;34m,\u001b[0m \u001b[0;34m*\u001b[0m\u001b[0margs\u001b[0m\u001b[0;34m,\u001b[0m \u001b[0;34m**\u001b[0m\u001b[0mkwargs\u001b[0m\u001b[0;34m)\u001b[0m\u001b[0;34m:\u001b[0m\u001b[0;34m\u001b[0m\u001b[0;34m\u001b[0m\u001b[0m\n\u001b[0;32m---> 82\u001b[0;31m                 \u001b[0;32mreturn\u001b[0m \u001b[0mgetattr\u001b[0m\u001b[0;34m(\u001b[0m\u001b[0mself\u001b[0m\u001b[0;34m.\u001b[0m\u001b[0mget_queryset\u001b[0m\u001b[0;34m(\u001b[0m\u001b[0;34m)\u001b[0m\u001b[0;34m,\u001b[0m \u001b[0mname\u001b[0m\u001b[0;34m)\u001b[0m\u001b[0;34m(\u001b[0m\u001b[0;34m*\u001b[0m\u001b[0margs\u001b[0m\u001b[0;34m,\u001b[0m \u001b[0;34m**\u001b[0m\u001b[0mkwargs\u001b[0m\u001b[0;34m)\u001b[0m\u001b[0;34m\u001b[0m\u001b[0;34m\u001b[0m\u001b[0m\n\u001b[0m\u001b[1;32m     83\u001b[0m             \u001b[0mmanager_method\u001b[0m\u001b[0;34m.\u001b[0m\u001b[0m__name__\u001b[0m \u001b[0;34m=\u001b[0m \u001b[0mmethod\u001b[0m\u001b[0;34m.\u001b[0m\u001b[0m__name__\u001b[0m\u001b[0;34m\u001b[0m\u001b[0;34m\u001b[0m\u001b[0m\n\u001b[1;32m     84\u001b[0m             \u001b[0mmanager_method\u001b[0m\u001b[0;34m.\u001b[0m\u001b[0m__doc__\u001b[0m \u001b[0;34m=\u001b[0m \u001b[0mmethod\u001b[0m\u001b[0;34m.\u001b[0m\u001b[0m__doc__\u001b[0m\u001b[0;34m\u001b[0m\u001b[0;34m\u001b[0m\u001b[0m\n",
      "\u001b[0;32m/usr/local/lib/python3.6/site-packages/django/db/models/query.py\u001b[0m in \u001b[0;36mget\u001b[0;34m(self, *args, **kwargs)\u001b[0m\n\u001b[1;32m    397\u001b[0m             raise self.model.DoesNotExist(\n\u001b[1;32m    398\u001b[0m                 \u001b[0;34m\"%s matching query does not exist.\"\u001b[0m \u001b[0;34m%\u001b[0m\u001b[0;34m\u001b[0m\u001b[0;34m\u001b[0m\u001b[0m\n\u001b[0;32m--> 399\u001b[0;31m                 \u001b[0mself\u001b[0m\u001b[0;34m.\u001b[0m\u001b[0mmodel\u001b[0m\u001b[0;34m.\u001b[0m\u001b[0m_meta\u001b[0m\u001b[0;34m.\u001b[0m\u001b[0mobject_name\u001b[0m\u001b[0;34m\u001b[0m\u001b[0;34m\u001b[0m\u001b[0m\n\u001b[0m\u001b[1;32m    400\u001b[0m             )\n\u001b[1;32m    401\u001b[0m         raise self.model.MultipleObjectsReturned(\n",
      "\u001b[0;31mDoesNotExist\u001b[0m: SubscriptionMember matching query does not exist."
     ]
    }
   ],
   "source": [
    "account.responsible_member"
   ]
  },
  {
   "cell_type": "code",
   "execution_count": 7,
   "metadata": {},
   "outputs": [
    {
     "data": {
      "text/plain": [
       "'sub_Ek0NBc7clsXX73'"
      ]
     },
     "execution_count": 7,
     "metadata": {},
     "output_type": "execute_result"
    }
   ],
   "source": [
    "u.djstripe_customer.subscription.id"
   ]
  },
  {
   "cell_type": "code",
   "execution_count": 73,
   "metadata": {},
   "outputs": [
    {
     "data": {
      "text/plain": [
       "['DoesNotExist',\n",
       " 'Meta',\n",
       " 'MultipleObjectsReturned',\n",
       " '__class__',\n",
       " '__delattr__',\n",
       " '__dict__',\n",
       " '__dir__',\n",
       " '__doc__',\n",
       " '__eq__',\n",
       " '__format__',\n",
       " '__ge__',\n",
       " '__getattribute__',\n",
       " '__getstate__',\n",
       " '__gt__',\n",
       " '__hash__',\n",
       " '__init__',\n",
       " '__init_subclass__',\n",
       " '__le__',\n",
       " '__lt__',\n",
       " '__module__',\n",
       " '__ne__',\n",
       " '__new__',\n",
       " '__reduce__',\n",
       " '__reduce_ex__',\n",
       " '__repr__',\n",
       " '__setattr__',\n",
       " '__setstate__',\n",
       " '__sizeof__',\n",
       " '__str__',\n",
       " '__subclasshook__',\n",
       " '__weakref__',\n",
       " '_api_create',\n",
       " '_api_delete',\n",
       " '_attach_objects_hook',\n",
       " '_attach_objects_post_save_hook',\n",
       " '_check_column_name_clashes',\n",
       " '_check_field_name_clashes',\n",
       " '_check_fields',\n",
       " '_check_id_field',\n",
       " '_check_index_together',\n",
       " '_check_indexes',\n",
       " '_check_local_fields',\n",
       " '_check_long_column_names',\n",
       " '_check_m2m_through_same_relationship',\n",
       " '_check_managers',\n",
       " '_check_model',\n",
       " '_check_model_name_db_lookup_clashes',\n",
       " '_check_ordering',\n",
       " '_check_property_name_related_field_accessor_clashes',\n",
       " '_check_single_primary_key',\n",
       " '_check_swappable',\n",
       " '_check_unique_together',\n",
       " '_create_from_stripe_object',\n",
       " '_do_insert',\n",
       " '_do_update',\n",
       " '_get_FIELD_display',\n",
       " '_get_base_stripe_dashboard_url',\n",
       " '_get_next_or_previous_by_FIELD',\n",
       " '_get_next_or_previous_in_order',\n",
       " '_get_or_create_from_stripe_object',\n",
       " '_get_pk_val',\n",
       " '_get_unique_checks',\n",
       " '_manipulate_stripe_object_hook',\n",
       " '_meta',\n",
       " '_perform_date_checks',\n",
       " '_perform_unique_checks',\n",
       " '_save_parents',\n",
       " '_save_table',\n",
       " '_set_pk_val',\n",
       " '_state',\n",
       " '_stripe_object_field_to_foreign_key',\n",
       " '_stripe_object_to_customer',\n",
       " '_stripe_object_to_invoice_items',\n",
       " '_stripe_object_to_record',\n",
       " '_stripe_object_to_refunds',\n",
       " '_stripe_object_to_subscription_items',\n",
       " '_sync',\n",
       " 'api_list',\n",
       " 'api_retrieve',\n",
       " 'check',\n",
       " 'clean',\n",
       " 'clean_fields',\n",
       " 'created',\n",
       " 'date_error_message',\n",
       " 'default_api_key',\n",
       " 'delete',\n",
       " 'description',\n",
       " 'djstripe_created',\n",
       " 'djstripe_id',\n",
       " 'djstripe_updated',\n",
       " 'expand_fields',\n",
       " 'from_db',\n",
       " 'full_clean',\n",
       " 'get_deferred_fields',\n",
       " 'get_next_by_djstripe_created',\n",
       " 'get_next_by_djstripe_updated',\n",
       " 'get_previous_by_djstripe_created',\n",
       " 'get_previous_by_djstripe_updated',\n",
       " 'get_stripe_dashboard_url',\n",
       " 'id',\n",
       " 'is_valid_object',\n",
       " 'livemode',\n",
       " 'metadata',\n",
       " 'objects',\n",
       " 'pk',\n",
       " 'plan',\n",
       " 'plan_id',\n",
       " 'prepare_database_save',\n",
       " 'quantity',\n",
       " 'refresh_from_db',\n",
       " 'save',\n",
       " 'save_base',\n",
       " 'serializable_value',\n",
       " 'str_parts',\n",
       " 'stripe_class',\n",
       " 'stripe_dashboard_item_name',\n",
       " 'stripe_objects',\n",
       " 'subscription',\n",
       " 'subscription_id',\n",
       " 'sync_from_stripe_data',\n",
       " 'unique_error_message',\n",
       " 'usage_records',\n",
       " 'validate_unique']"
      ]
     },
     "execution_count": 73,
     "metadata": {},
     "output_type": "execute_result"
    }
   ],
   "source": [
    "items = u.djstripe_subscription.items.all()\n",
    "item = items[1]\n",
    "dir(item)"
   ]
  },
  {
   "cell_type": "code",
   "execution_count": 74,
   "metadata": {},
   "outputs": [
    {
     "name": "stdout",
     "output_type": "stream",
     "text": [
      "{\n",
      "  \"billing_thresholds\": null,\n",
      "  \"created\": 1553195763,\n",
      "  \"id\": \"si_Ek0NfWGSIJdNd0\",\n",
      "  \"metadata\": {},\n",
      "  \"object\": \"subscription_item\",\n",
      "  \"plan\": {\n",
      "    \"active\": true,\n",
      "    \"aggregate_usage\": null,\n",
      "    \"amount\": 0,\n",
      "    \"billing_scheme\": \"per_unit\",\n",
      "    \"created\": 1553146706,\n",
      "    \"currency\": \"usd\",\n",
      "    \"id\": \"plan_EjnCfmT2JdOt1a\",\n",
      "    \"interval\": \"month\",\n",
      "    \"interval_count\": 1,\n",
      "    \"livemode\": false,\n",
      "    \"metadata\": {},\n",
      "    \"nickname\": \"Monthly\",\n",
      "    \"object\": \"plan\",\n",
      "    \"product\": \"prod_EjnBIJAleVzUNz\",\n",
      "    \"tiers\": null,\n",
      "    \"tiers_mode\": null,\n",
      "    \"transform_usage\": null,\n",
      "    \"trial_period_days\": null,\n",
      "    \"usage_type\": \"licensed\"\n",
      "  },\n",
      "  \"quantity\": 1,\n",
      "  \"subscription\": \"sub_Ek0NBc7clsXX73\"\n",
      "}\n"
     ]
    }
   ],
   "source": [
    "print(item.api_retrieve())"
   ]
  },
  {
   "cell_type": "code",
   "execution_count": 75,
   "metadata": {},
   "outputs": [
    {
     "data": {
      "text/plain": [
       "<SubscriptionItem subscription_item id=si_EkSI1DF2XNa055 at 0x7fe1b53fba40> JSON: {\n",
       "  \"billing_thresholds\": null,\n",
       "  \"created\": 1553299634,\n",
       "  \"id\": \"si_EkSI1DF2XNa055\",\n",
       "  \"metadata\": {},\n",
       "  \"object\": \"subscription_item\",\n",
       "  \"plan\": {\n",
       "    \"active\": true,\n",
       "    \"aggregate_usage\": null,\n",
       "    \"amount\": 699,\n",
       "    \"billing_scheme\": \"per_unit\",\n",
       "    \"created\": 1553216533,\n",
       "    \"currency\": \"usd\",\n",
       "    \"id\": \"plan_Ek5xhjdwNQYNEd\",\n",
       "    \"interval\": \"month\",\n",
       "    \"interval_count\": 1,\n",
       "    \"livemode\": false,\n",
       "    \"metadata\": {},\n",
       "    \"nickname\": \"Netflix - Individual Plan: $6.99 billed monthly\",\n",
       "    \"object\": \"plan\",\n",
       "    \"product\": \"prod_Ek5x7DjLjWH0Uu\",\n",
       "    \"tiers\": null,\n",
       "    \"tiers_mode\": null,\n",
       "    \"transform_usage\": null,\n",
       "    \"trial_period_days\": null,\n",
       "    \"usage_type\": \"licensed\"\n",
       "  },\n",
       "  \"quantity\": 1,\n",
       "  \"subscription\": \"sub_Ek0NBc7clsXX73\"\n",
       "}"
      ]
     },
     "execution_count": 75,
     "metadata": {},
     "output_type": "execute_result"
    }
   ],
   "source": [
    "test = stripe.SubscriptionItem.retrieve('si_EkSI1DF2XNa055')\n",
    "test"
   ]
  },
  {
   "cell_type": "code",
   "execution_count": null,
   "metadata": {},
   "outputs": [],
   "source": []
  }
 ],
 "metadata": {
  "kernelspec": {
   "display_name": "Django Shell-Plus",
   "language": "python",
   "name": "django_extensions"
  },
  "language_info": {
   "codemirror_mode": {
    "name": "ipython",
    "version": 3
   },
   "file_extension": ".py",
   "mimetype": "text/x-python",
   "name": "python",
   "nbconvert_exporter": "python",
   "pygments_lexer": "ipython3",
   "version": "3.6.8"
  }
 },
 "nbformat": 4,
 "nbformat_minor": 2
}
