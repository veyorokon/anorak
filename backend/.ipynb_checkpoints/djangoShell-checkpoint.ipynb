{
 "cells": [
  {
   "cell_type": "code",
   "execution_count": 1,
   "metadata": {},
   "outputs": [],
   "source": [
    "from rest_framework_jwt.serializers import VerifyJSONWebTokenSerializer\n",
    "from mail_templated import EmailMessage\n",
    "import random\n",
    "import string\n",
    "from backend.utility import *"
   ]
  },
  {
   "cell_type": "code",
   "execution_count": 2,
   "metadata": {},
   "outputs": [],
   "source": [
    "class EmailVerificationMessage(object):\n",
    "    \n",
    "    def __init__(self, user, token):\n",
    "        self.user = user\n",
    "        self.token = token\n",
    "        \n",
    "    def email_verification(self):\n",
    "        message = EmailMessage('emailVerification.tpl',\n",
    "            {'user': self.user, 'token': self.token},\n",
    "            'noreply@ianorak.com',\n",
    "            to =[self.user.email]\n",
    "        )\n",
    "        message.send()\n",
    "        \n",
    "    "
   ]
  },
  {
   "cell_type": "code",
   "execution_count": null,
   "metadata": {},
   "outputs": [],
   "source": [
    "epoch = get_current_epoch()\n",
    "verification = EmailVerification.objects.get(user=user, date_expires__gte=epoch)\n",
    "ev = EmailVerificationMessage(user, verification.code)"
   ]
  },
  {
   "cell_type": "code",
   "execution_count": 21,
   "metadata": {},
   "outputs": [],
   "source": [
    "ev.email_verification()"
   ]
  },
  {
   "cell_type": "code",
   "execution_count": 12,
   "metadata": {},
   "outputs": [],
   "source": [
    "# data = {'token': token}\n",
    "# valid_data = VerifyJSONWebTokenSerializer().validate(data)\n",
    "# validUser = valid_data['user']"
   ]
  },
  {
   "cell_type": "code",
   "execution_count": 14,
   "metadata": {},
   "outputs": [
    {
     "data": {
      "text/plain": [
       "1555548611"
      ]
     },
     "execution_count": 14,
     "metadata": {},
     "output_type": "execute_result"
    }
   ],
   "source": [
    "get_current_epoch() + 2*86400"
   ]
  },
  {
   "cell_type": "code",
   "execution_count": 15,
   "metadata": {},
   "outputs": [
    {
     "data": {
      "text/plain": [
       "'pbkdf2_sha256$120000$rKa516Cb0BKQ$UlPpizHWuhMCV0ZVHfQhLYSt5qJxRP3vEVmpxbPAlRM='"
      ]
     },
     "execution_count": 15,
     "metadata": {},
     "output_type": "execute_result"
    }
   ],
   "source": [
    "user.password"
   ]
  },
  {
   "cell_type": "code",
   "execution_count": null,
   "metadata": {},
   "outputs": [],
   "source": []
  }
 ],
 "metadata": {
  "kernelspec": {
   "display_name": "Django Shell-Plus",
   "language": "python",
   "name": "django_extensions"
  },
  "language_info": {
   "codemirror_mode": {
    "name": "ipython",
    "version": 3
   },
   "file_extension": ".py",
   "mimetype": "text/x-python",
   "name": "python",
   "nbconvert_exporter": "python",
   "pygments_lexer": "ipython3",
   "version": "3.6.8"
  }
 },
 "nbformat": 4,
 "nbformat_minor": 2
}
