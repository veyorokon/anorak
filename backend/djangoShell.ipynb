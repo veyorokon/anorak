{
 "cells": [
  {
   "cell_type": "code",
   "execution_count": 1,
   "metadata": {},
   "outputs": [],
   "source": [
    "from django.conf import settings\n",
    "import stripe\n",
    "stripe.api_key = settings.STRIPE_ACCOUNT_SID\n",
    "from backend.utility import *\n",
    "import time"
   ]
  },
  {
   "cell_type": "code",
   "execution_count": 29,
   "metadata": {},
   "outputs": [
    {
     "name": "stdout",
     "output_type": "stream",
     "text": [
      "Email=veyorokon@gmail.com\n"
     ]
    }
   ],
   "source": [
    "user = User.objects.first()\n",
    "print(user)"
   ]
  },
  {
   "cell_type": "code",
   "execution_count": null,
   "metadata": {},
   "outputs": [],
   "source": []
  },
  {
   "cell_type": "code",
   "execution_count": null,
   "metadata": {
    "scrolled": true
   },
   "outputs": [],
   "source": []
  },
  {
   "cell_type": "code",
   "execution_count": 39,
   "metadata": {
    "scrolled": true
   },
   "outputs": [],
   "source": []
  },
  {
   "cell_type": "code",
   "execution_count": 89,
   "metadata": {},
   "outputs": [],
   "source": [
    "def find_items(search, invoice):\n",
    "    search = [term.lower() for term in search]\n",
    "    found = []\n",
    "    for item in invoice.lines.data:\n",
    "        description = item.description.lower()\n",
    "        if all(term in description for term in search):\n",
    "            #print(item)\n",
    "            found.append(item)\n",
    "    return found\n",
    "\n",
    "def delete_invoice_item(itemID):\n",
    "    item = stripe.InvoiceItem.retrieve(itemID)\n",
    "    item.delete()\n",
    "    \n",
    "def calculate_management_fee(subtotal):\n",
    "    subtotal /= 100 #Format from stripe\n",
    "    fee = calculate_anorak_fee(subtotal) #imported from utility\n",
    "    return(int(fee*100))\n",
    "\n",
    "def prevent_duplicate_fees(managementFees):\n",
    "    duplicateTotal = -1\n",
    "    managementFee = None\n",
    "    if len(managementFees) == 1:\n",
    "        managementFee = managementFees[0]\n",
    "        duplicateTotal = managementFee.amount\n",
    "    elif len(managementFees) > 1:\n",
    "        mgtFee = managementFees[0]\n",
    "        duplicateTotal = mgtFee.amount\n",
    "        duplicates = managementFees[1:]\n",
    "        for duplicateFee in duplicates:\n",
    "            delete_invoice_item(duplicateFee.id)\n",
    "            duplicateTotal += duplicateFee.amount\n",
    "        managementFee = mgtFee\n",
    "        \n",
    "    return managementFee, duplicateTotal\n",
    "    \n",
    "def sync_management_charge():\n",
    "    invoice = user.stripe_customer.get_stripe_upcoming_invoice()\n",
    "    customer = user.stripe_customer\n",
    "    duplicateFees = find_items(\"Anorak Management Fee\", invoice)\n",
    "    managementCharge, duplicateTotal = prevent_duplicate_fees(duplicateFees)\n",
    "    if duplicateTotal == -1:\n",
    "        return create_management_charge(invoice)\n",
    "    return update_management_charge(invoice, managementCharge, duplicateTotal)\n",
    "\n",
    "\n",
    "def update_management_charge(invoice, managementCharge, feeTotal=0.0):\n",
    "    feeID = managementCharge.id\n",
    "    totalWithoutFees = float(invoice.subtotal-feeTotal)\n",
    "    print(totalWithoutFees)\n",
    "    fee = calculate_management_fee(totalWithoutFees)\n",
    "    item = stripe.InvoiceItem.modify(\n",
    "                feeID,\n",
    "                amount = fee\n",
    "            )\n",
    "    return item\n",
    "\n",
    "\n",
    "def create_management_charge(invoice):\n",
    "    customer = user.stripe_customer\n",
    "    timeNow = int(calendar.timegm(time.gmtime()))\n",
    "    fee = calculate_management_fee(invoice.subtotal)\n",
    "    item = stripe.InvoiceItem.create(\n",
    "            customer=customer.stripe_customer_id, \n",
    "            amount=fee, \n",
    "            currency=\"usd\", subscription=customer.stripe_subscription_id,\n",
    "            description=\"Anorak Management Fee\",\n",
    "            period = {\n",
    "            \"start\": timeNow,\n",
    "            \"end\": get_first_day_next_month_epoch(),\n",
    "          },\n",
    "        )\n",
    "    return item\n"
   ]
  },
  {
   "cell_type": "code",
   "execution_count": 97,
   "metadata": {},
   "outputs": [
    {
     "name": "stdout",
     "output_type": "stream",
     "text": [
      "6708.0\n"
     ]
    }
   ],
   "source": [
    "#create_management_charge(invoice)\n",
    "item = sync_management_charge()"
   ]
  },
  {
   "cell_type": "code",
   "execution_count": 74,
   "metadata": {
    "scrolled": false
   },
   "outputs": [],
   "source": [
    "# If an invoice is deleted, it will add a duplicate \"management fee\" invoice item\n",
    "search = [ \"family\"]\n",
    "#check_duplicate_management_fees()\n",
    "#find_items(search)"
   ]
  },
  {
   "cell_type": "code",
   "execution_count": 8,
   "metadata": {},
   "outputs": [
    {
     "data": {
      "text/plain": [
       "<InvoiceItem invoiceitem id=ii_1EEkRUGjkoMLHlzNZw2VBmy4 at 0x7f81411c4a40> JSON: {\n",
       "  \"amount\": 250,\n",
       "  \"currency\": \"usd\",\n",
       "  \"customer\": \"cus_Ee5GDE9rGJ7uW6\",\n",
       "  \"date\": 1552773204,\n",
       "  \"description\": \"Anorak Management Fee\",\n",
       "  \"discountable\": true,\n",
       "  \"id\": \"ii_1EEkRUGjkoMLHlzNZw2VBmy4\",\n",
       "  \"invoice\": null,\n",
       "  \"livemode\": false,\n",
       "  \"metadata\": {},\n",
       "  \"object\": \"invoiceitem\",\n",
       "  \"period\": {\n",
       "    \"end\": 1554076800,\n",
       "    \"start\": 1552773199\n",
       "  },\n",
       "  \"plan\": null,\n",
       "  \"proration\": false,\n",
       "  \"quantity\": 1,\n",
       "  \"subscription\": \"sub_Ee5GIgHDyjTmMk\",\n",
       "  \"unit_amount\": 250\n",
       "}"
      ]
     },
     "execution_count": 8,
     "metadata": {},
     "output_type": "execute_result"
    }
   ],
   "source": [
    "item"
   ]
  },
  {
   "cell_type": "code",
   "execution_count": null,
   "metadata": {},
   "outputs": [],
   "source": []
  }
 ],
 "metadata": {
  "kernelspec": {
   "display_name": "Django Shell-Plus",
   "language": "python",
   "name": "django_extensions"
  },
  "language_info": {
   "codemirror_mode": {
    "name": "ipython",
    "version": 3
   },
   "file_extension": ".py",
   "mimetype": "text/x-python",
   "name": "python",
   "nbconvert_exporter": "python",
   "pygments_lexer": "ipython3",
   "version": "3.6.8"
  }
 },
 "nbformat": 4,
 "nbformat_minor": 2
}
