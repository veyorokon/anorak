{
 "cells": [
  {
   "cell_type": "code",
   "execution_count": 2,
   "metadata": {},
   "outputs": [],
   "source": [
    "from subscription.enum import *\n",
    "from backend.stripe import stripe\n",
    "from enum import Enum\n",
    "from django_enumfield import enum\n",
    "import itertools"
   ]
  },
  {
   "cell_type": "code",
   "execution_count": 3,
   "metadata": {},
   "outputs": [],
   "source": [
    "user = User.objects.get(email='veyorokon@gmail.com')"
   ]
  },
  {
   "cell_type": "code",
   "execution_count": 4,
   "metadata": {},
   "outputs": [],
   "source": [
    "import graphene"
   ]
  },
  {
   "cell_type": "code",
   "execution_count": 5,
   "metadata": {},
   "outputs": [
    {
     "data": {
      "text/plain": [
       "<enum 'test'>"
      ]
     },
     "execution_count": 5,
     "metadata": {},
     "output_type": "execute_result"
    }
   ],
   "source": [
    "t = Enum('test', SubscriptionAccountStatus.items())\n",
    "t"
   ]
  },
  {
   "cell_type": "code",
   "execution_count": 6,
   "metadata": {},
   "outputs": [],
   "source": [
    "class SubscriptionAccountStatus(enum.Enum):\n",
    "    TERMINATED = 0\n",
    "    CANCELED = 10\n",
    "    PENDING_CANCELLATION = 15\n",
    "    PENDING = 20\n",
    "    PENDING_CREATE = 29\n",
    "    PENDING_CONNECT = 30\n",
    "    PENDING_CONFIRM_CONNECT = 35\n",
    "    ACTIVE = 90\n",
    "    CONNECTED = 91\n",
    "\n",
    "    _transitions = {\n",
    "        CONNECTED: (\n",
    "            PENDING,\n",
    "            PENDING_CONFIRM_CONNECT,\n",
    "        ),\n",
    "        ACTIVE: (\n",
    "            PENDING,\n",
    "            PENDING_CREATE,\n",
    "        ),\n",
    "        PENDING_CONFIRM_CONNECT: (\n",
    "            PENDING,\n",
    "            PENDING_CONNECT,\n",
    "        ),\n",
    "        PENDING_CANCELLATION:(\n",
    "            CONNECTED,\n",
    "            ACTIVE,\n",
    "            PENDING,\n",
    "            PENDING_CREATE,\n",
    "            PENDING_CONNECT,\n",
    "            PENDING_CONFIRM_CONNECT,\n",
    "        ),\n",
    "        CANCELED : (\n",
    "            PENDING_CANCELLATION,\n",
    "        )\n",
    "    }\n",
    "   \n",
    "    @classmethod\n",
    "    def __enumerable__(cls):\n",
    "        return Enum(type(cls).__name__, cls.items())\n",
    "\n",
    "\n",
    "SubscriptionAccountStatusEnum = graphene.Enum.from_enum(\n",
    "    SubscriptionAccountStatus.__enumerable__()\n",
    ")\n",
    "\n",
    "class _SubscriptionAccountStatusType(SubscriptionAccountStatusEnum):\n",
    "    pass"
   ]
  },
  {
   "cell_type": "code",
   "execution_count": 13,
   "metadata": {
    "scrolled": true
   },
   "outputs": [
    {
     "ename": "KeyError",
     "evalue": "0",
     "output_type": "error",
     "traceback": [
      "\u001b[0;31m---------------------------------------------------------------------------\u001b[0m",
      "\u001b[0;31mKeyError\u001b[0m                                  Traceback (most recent call last)",
      "\u001b[0;32m<ipython-input-13-617b95a5c613>\u001b[0m in \u001b[0;36m<module>\u001b[0;34m\u001b[0m\n\u001b[0;32m----> 1\u001b[0;31m \u001b[0mSubscriptionAccountStatus\u001b[0m\u001b[0;34m.\u001b[0m\u001b[0m__enumerable__\u001b[0m\u001b[0;34m(\u001b[0m\u001b[0;34m)\u001b[0m\u001b[0;34m.\u001b[0m\u001b[0m__members__\u001b[0m\u001b[0;34m[\u001b[0m\u001b[0;36m0\u001b[0m\u001b[0;34m]\u001b[0m\u001b[0;34m\u001b[0m\u001b[0;34m\u001b[0m\u001b[0m\n\u001b[0m",
      "\u001b[0;31mKeyError\u001b[0m: 0"
     ]
    }
   ],
   "source": [
    "SubscriptionAccountStatus.__enumerable__().__members__"
   ]
  },
  {
   "cell_type": "code",
   "execution_count": 21,
   "metadata": {},
   "outputs": [
    {
     "data": {
      "text/plain": [
       "django_enumfield.enum.EnumType"
      ]
     },
     "execution_count": 21,
     "metadata": {},
     "output_type": "execute_result"
    }
   ],
   "source": [
    "SubscriptionAccountStatus.__class__"
   ]
  },
  {
   "cell_type": "code",
   "execution_count": null,
   "metadata": {},
   "outputs": [],
   "source": [
    "dict(SubscriptionAccountStatus.items())"
   ]
  },
  {
   "cell_type": "code",
   "execution_count": null,
   "metadata": {},
   "outputs": [],
   "source": []
  }
 ],
 "metadata": {
  "kernelspec": {
   "display_name": "Django Shell-Plus",
   "language": "python",
   "name": "django_extensions"
  }
 },
 "nbformat": 4,
 "nbformat_minor": 2
}
