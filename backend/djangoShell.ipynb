{
 "cells": [
  {
   "cell_type": "code",
   "execution_count": 6,
   "metadata": {},
   "outputs": [
    {
     "name": "stdout",
     "output_type": "stream",
     "text": [
      "cus_EsJLPjrnRQMUyB\n"
     ]
    }
   ],
   "source": [
    "user = User.objects.first()\n",
    "print(user.djstripe_customer.id)"
   ]
  },
  {
   "cell_type": "code",
   "execution_count": null,
   "metadata": {},
   "outputs": [],
   "source": [
    "class client(object):\n",
    "    \n",
    "    def __init__(self, isSandbox):\n",
    "        self.url = \"https://api.bentoforbusiness.com\"\n",
    "        if isSandbox:\n",
    "            self.url = \"https://sandbox-api.bentoforbusiness.com/api\"\n",
    "        "
   ]
  }
 ],
 "metadata": {
  "kernelspec": {
   "display_name": "Django Shell-Plus",
   "language": "python",
   "name": "django_extensions"
  },
  "language_info": {
   "codemirror_mode": {
    "name": "ipython",
    "version": 3
   },
   "file_extension": ".py",
   "mimetype": "text/x-python",
   "name": "python",
   "nbconvert_exporter": "python",
   "pygments_lexer": "ipython3",
   "version": "3.6.8"
  }
 },
 "nbformat": 4,
 "nbformat_minor": 2
}
